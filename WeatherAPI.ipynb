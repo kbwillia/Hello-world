{
  "nbformat": 4,
  "nbformat_minor": 0,
  "metadata": {
    "colab": {
      "name": "WeatherAPI.ipynb",
      "provenance": [],
      "authorship_tag": "ABX9TyP/paA4gdU2QOl0XkMEkr6R",
      "include_colab_link": true
    },
    "kernelspec": {
      "name": "python3",
      "display_name": "Python 3"
    },
    "language_info": {
      "name": "python"
    }
  },
  "cells": [
    {
      "cell_type": "markdown",
      "metadata": {
        "id": "view-in-github",
        "colab_type": "text"
      },
      "source": [
        "<a href=\"https://colab.research.google.com/github/kbwillia/Hello-world/blob/main/WeatherAPI.ipynb\" target=\"_parent\"><img src=\"https://colab.research.google.com/assets/colab-badge.svg\" alt=\"Open In Colab\"/></a>"
      ]
    },
    {
      "cell_type": "code",
      "execution_count": 11,
      "metadata": {
        "colab": {
          "base_uri": "https://localhost:8080/"
        },
        "id": "H69AnoHMcRtW",
        "outputId": "eedda422-fa27-4cd9-bee1-92f9c4e0e425"
      },
      "outputs": [
        {
          "output_type": "stream",
          "name": "stdout",
          "text": [
            "<Response [200]>\n"
          ]
        }
      ],
      "source": [
        "import matplotlib.pyplot as plt\n",
        "from matplotlib import dates\n",
        "import matplotlib.dates as mdates\n",
        "import matplotlib.patches as mpatches\n",
        "import matplotlib.ticker as ticker\n",
        "import matplotlib.cm as cm\n",
        "import matplotlib as mpl\n",
        "import seaborn as sns\n",
        "import requests\n",
        "\n",
        "\n",
        "\n",
        "\n"
      ]
    },
    {
      "cell_type": "code",
      "source": [
        ""
      ],
      "metadata": {
        "id": "gCUxgRNedDYO"
      },
      "execution_count": 14,
      "outputs": []
    },
    {
      "cell_type": "code",
      "source": [
        "### CREATE VIRTUAL DISPLAY ### Had an error in following cell\n",
        "!apt-get install -y xvfb # Install X Virtual Frame Buffer\n",
        "import os\n",
        "os.system('Xvfb :1 -screen 0 1600x1200x16  &')    # create virtual display with size 1600x1200 and 16 bit color. Color can be changed to 24 or 8\n",
        "os.environ['DISPLAY']=':1.0'    # tell X client"
      ],
      "metadata": {
        "colab": {
          "base_uri": "https://localhost:8080/"
        },
        "id": "br4tiJ2ldDaW",
        "outputId": "16c5a660-43d8-4b8c-dbbb-b5259dcc7798"
      },
      "execution_count": 22,
      "outputs": [
        {
          "output_type": "stream",
          "name": "stdout",
          "text": [
            "Reading package lists... Done\n",
            "Building dependency tree       \n",
            "Reading state information... Done\n",
            "The following packages were automatically installed and are no longer required:\n",
            "  libnvidia-common-460 nsight-compute-2020.2.0\n",
            "Use 'apt autoremove' to remove them.\n",
            "The following NEW packages will be installed:\n",
            "  xvfb\n",
            "0 upgraded, 1 newly installed, 0 to remove and 42 not upgraded.\n",
            "Need to get 784 kB of archives.\n",
            "After this operation, 2,271 kB of additional disk space will be used.\n",
            "Get:1 http://archive.ubuntu.com/ubuntu bionic-updates/universe amd64 xvfb amd64 2:1.19.6-1ubuntu4.10 [784 kB]\n",
            "Fetched 784 kB in 1s (620 kB/s)\n",
            "Selecting previously unselected package xvfb.\n",
            "(Reading database ... 155203 files and directories currently installed.)\n",
            "Preparing to unpack .../xvfb_2%3a1.19.6-1ubuntu4.10_amd64.deb ...\n",
            "Unpacking xvfb (2:1.19.6-1ubuntu4.10) ...\n",
            "Setting up xvfb (2:1.19.6-1ubuntu4.10) ...\n",
            "Processing triggers for man-db (2.8.3-2ubuntu0.1) ...\n"
          ]
        }
      ]
    },
    {
      "cell_type": "code",
      "source": [
        "import requests\n",
        "from tkinter import *\n",
        "import math\n",
        "\n",
        "city_name = \"Austin\"\n",
        "api_key = '526c00f2c974ac214f278a4d560381a7'\n",
        "\n",
        "\n",
        "def get_weather(api_key, city):\n",
        "    url = f'http://api.openweathermap.org/data/2.5/weather?q={city}&appid={api_key}'\n",
        "\n",
        "    response = requests.get(url).json()\n",
        "\n",
        "    temp = response['main']['temp']\n",
        "    temp = math.floor((temp * 1.8) - 459.67)  # Convert to °F\n",
        "\n",
        "    feels_like = response['main']['feels_like']\n",
        "    feels_like = math.floor((feels_like * 1.8) - 459.67)  # Convert to °F\n",
        "\n",
        "    humidity = response['main']['humidity']\n",
        "    \n",
        "    return {\n",
        "        'temp': temp,\n",
        "        'feels_like': feels_like,\n",
        "        'humidity': humidity\n",
        "    }\n",
        "\n",
        "weather = get_weather(api_key, city_name)\n",
        "\n",
        "root = Tk()\n",
        "root.geometry(\"300x300\")\n",
        "root.title(f'{city_name[:-3]} Weather')\n",
        "\n",
        "def display_city_name(city):\n",
        "    city_label = Label(root, text=f\"{city_name[:-3]}\")\n",
        "    city_label.config(font=(\"Consolas\", 28))\n",
        "    city_label.pack(side='top')\n",
        "\n",
        "def display_stats(weather):\n",
        "    temp = Label(root, text=f\"Temperature: {weather['temp']} F\")\n",
        "    feels_like = Label(root, text=f\"Feels Like: {weather['feels_like']} F\")\n",
        "    humidity = Label(root, text=f\"Humidity: {weather['humidity']} %\")\n",
        "\n",
        "    temp.config(font=(\"Consolas\", 22))\n",
        "    feels_like.config(font=(\"Consolas\", 16))\n",
        "    humidity.config(font=(\"Consolas\", 16))\n",
        "\n",
        "    temp.pack(side='top')\n",
        "    feels_like.pack(side='top')\n",
        "    humidity.pack(side='top')\n",
        "\n",
        "\n",
        "display_city_name(city_name)\n",
        "display_stats(weather)\n",
        "\n",
        "mainloop()\n"
      ],
      "metadata": {
        "id": "qTB4HwlRdDch"
      },
      "execution_count": null,
      "outputs": []
    },
    {
      "cell_type": "code",
      "source": [
        ""
      ],
      "metadata": {
        "id": "elBM_IdPlf2-"
      },
      "execution_count": null,
      "outputs": []
    }
  ]
}